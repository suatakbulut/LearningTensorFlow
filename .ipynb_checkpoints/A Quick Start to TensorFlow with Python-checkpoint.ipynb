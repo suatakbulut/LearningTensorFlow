{
 "cells": [
  {
   "cell_type": "markdown",
   "metadata": {},
   "source": [
    "<h1>  <center>  A Quick Start to TensorFlow with Python  </center> </h1> \n",
    "\n",
    "I will use this repository more like a notebook for my TensorFlow class in which I follow the learning tutorials of [TensorFlow](https://www.tensorflow.org/tutorials). I will try to use whatever I learn about TensorFlow in a basic exersice and save it here. I think\n",
    "\n",
    "## Image Classification"
   ]
  },
  {
   "cell_type": "markdown",
   "metadata": {},
   "source": [
    "In order to install the current stable relase of GPU-TensorFlow and Keras on your Windows Machine, you should go to your Anaconda Prompt (If you are using other python distributions you can simple google it) and type: \n",
    "\n",
    "```python\n",
    "conda create -n tf-gpu tensorflow-gpu\n",
    "conda activate tf-gpu\n",
    "conda install -c conda-forge keras \n",
    "```\n"
   ]
  },
  {
   "cell_type": "markdown",
   "metadata": {},
   "source": [
    "Let us first import tensorflow and keras"
   ]
  },
  {
   "cell_type": "code",
   "execution_count": 1,
   "metadata": {},
   "outputs": [
    {
     "name": "stderr",
     "output_type": "stream",
     "text": [
      "Using TensorFlow backend.\n"
     ]
    }
   ],
   "source": [
    "import tensorflow as tf\n",
    "import keras "
   ]
  },
  {
   "cell_type": "markdown",
   "metadata": {},
   "source": [
    "For the sake of exercise, I will use MNIST dataset from Keras's datasets library. It is a bunch of labeled images of handwritten digits. So, we will try to build a simple neural network model to predict the handwritten digit by looking at its image. "
   ]
  },
  {
   "cell_type": "code",
   "execution_count": 2,
   "metadata": {},
   "outputs": [],
   "source": [
    "from keras.datasets import mnist\n",
    "(X_train, y_train), (X_valid, y_valid) = mnist.load_data()"
   ]
  },
  {
   "cell_type": "markdown",
   "metadata": {},
   "source": [
    "How does a single training image look like? By running the code below, we get the visualization of it. "
   ]
  },
  {
   "cell_type": "code",
   "execution_count": 3,
   "metadata": {},
   "outputs": [
    {
     "data": {
      "image/png": "[encoded data removed]",
      "text/plain": [
       "<Figure size 432x288 with 1 Axes>"
      ]
     },
     "metadata": {
      "needs_background": "light"
     },
     "output_type": "display_data"
    },
    {
     "name": "stdout",
     "output_type": "stream",
     "text": [
      "Figure above is labeled as 5\n"
     ]
    }
   ],
   "source": [
    "import matplotlib.pyplot as plt\n",
    "%matplotlib inline\n",
    "\n",
    "plt.imshow(X_train[0])\n",
    "plt.show()\n",
    "print('Figure above is labeled as', y_train[0])"
   ]
  },
  {
   "cell_type": "markdown",
   "metadata": {},
   "source": [
    "In order to channel it to a neural network, we need to know the shape of our data. "
   ]
  },
  {
   "cell_type": "code",
   "execution_count": 4,
   "metadata": {},
   "outputs": [
    {
     "name": "stdout",
     "output_type": "stream",
     "text": [
      "Shape of X_train: (60000, 28, 28)\n",
      "Shape of y_train: (60000,)\n"
     ]
    }
   ],
   "source": [
    "print('Shape of X_train:', X_train.shape)\n",
    "print('Shape of y_train:', y_train.shape)"
   ]
  },
  {
   "cell_type": "markdown",
   "metadata": {},
   "source": [
    "## Normalize and Reshape the Data \n",
    "\n",
    "As seen above, our train data is a 3-dims one. We 60,000 images of size 28x28 pixels. At each pixel we have a number between 0-255 (RGB value). We need to normalize this data. Even though there are multiple way of normalizing data, I simply divide it by 255, which is the maximum possible value. \n",
    "\n",
    "On the other hand, my output should be a vector of size 10 instead of a scalar. Hence, using  keras.utils.np_utils.to_categorical I will convert them into vectors of size 10 such that if the original value was 5, then in the transformed vector the 5th entry will be one while all ohter cells are zero. "
   ]
  },
  {
   "cell_type": "code",
   "execution_count": 5,
   "metadata": {},
   "outputs": [
    {
     "name": "stdout",
     "output_type": "stream",
     "text": [
      "Shape of X_train: (60000, 28, 28)\n",
      "Shape of y_train: (60000, 10)\n",
      "Number of images in training set: 60000\n",
      "Number of images in validation set: 10000\n"
     ]
    }
   ],
   "source": [
    "# To avoid division problems, make sure that the data is float32\n",
    "X_train = X_train.astype('float32')\n",
    "X_valid = X_valid.astype('float32')\n",
    "\n",
    "# Normalizing the data\n",
    "X_train /= 255\n",
    "X_valid /= 255\n",
    "\n",
    "from keras.utils.np_utils import to_categorical \n",
    "y_train = to_categorical(y_train, 10)\n",
    "y_valid = to_categorical(y_valid, 10)\n",
    "\n",
    "print('Shape of X_train:', X_train.shape)\n",
    "print('Shape of y_train:', y_train.shape)\n",
    "print('Number of images in training set:', X_train.shape[0])\n",
    "print('Number of images in validation set:', X_valid.shape[0])"
   ]
  },
  {
   "cell_type": "markdown",
   "metadata": {},
   "source": [
    "## Building A Neural Network Model\n",
    "\n",
    "Using Keras API, I will build a simple neural network model with one hidden layer. Even though you are free in creating the architecture of the network, fo. "
   ]
  },
  {
   "cell_type": "code",
   "execution_count": 6,
   "metadata": {},
   "outputs": [],
   "source": [
    "from keras.models import Sequential \n",
    "from keras.layers import Flatten, Dense\n",
    "\n",
    "# Now I can build a model with one hidden layer.\n",
    "model = Sequential()\n",
    "# add input layer\n",
    "model.add(Flatten(input_shape=(28, 28)))\n",
    "\n",
    "# add a hidden layer\n",
    "model.add(Dense(128, activation='relu'))\n",
    "\n",
    "# we have 10 different labels at the end of the network \n",
    "model.add(Dense(10, activation='softmax'))\n",
    "\n",
    "# compile the model with an appropriate loss function and metrics\n",
    "model.compile(optimizer='adam', loss='categorical_crossentropy', metrics=['accuracy'])"
   ]
  },
  {
   "cell_type": "markdown",
   "metadata": {},
   "source": [
    "We may now print the summary of our model to see its layers and weights."
   ]
  },
  {
   "cell_type": "code",
   "execution_count": 7,
   "metadata": {},
   "outputs": [
    {
     "name": "stdout",
     "output_type": "stream",
     "text": [
      "Model: \"sequential_1\"\n",
      "_________________________________________________________________\n",
      "Layer (type)                 Output Shape              Param #   \n",
      "=================================================================\n",
      "flatten_1 (Flatten)          (None, 784)               0         \n",
      "_________________________________________________________________\n",
      "dense_1 (Dense)              (None, 128)               100480    \n",
      "_________________________________________________________________\n",
      "dense_2 (Dense)              (None, 10)                1290      \n",
      "=================================================================\n",
      "Total params: 101,770\n",
      "Trainable params: 101,770\n",
      "Non-trainable params: 0\n",
      "_________________________________________________________________\n",
      "None\n"
     ]
    }
   ],
   "source": [
    "# print the summary of the model\n",
    "print(model.summary())"
   ]
  },
  {
   "cell_type": "markdown",
   "metadata": {},
   "source": [
    "We have one input layer, which takes (28x28) shaped input and flattens it to a one dimensional vector of size 28x28 = 784. The input layer feeds these vectors to the hidden layer, which outputs one dimensional vectors of size 128 to the last layer. Lastly, the output layer assigns every data into one of the 10 possible categories. \n",
    "\n",
    "We can now train this model by feeding the training data into it. "
   ]
  },
  {
   "cell_type": "code",
   "execution_count": 8,
   "metadata": {},
   "outputs": [
    {
     "name": "stdout",
     "output_type": "stream",
     "text": [
      "Epoch 1/5\n",
      "60000/60000 [==============================] - 3s 43us/step - loss: 0.2608 - accuracy: 0.9261\n",
      "Epoch 2/5\n",
      "60000/60000 [==============================] - 2s 40us/step - loss: 0.1123 - accuracy: 0.9670\n",
      "Epoch 3/5\n",
      "60000/60000 [==============================] - 3s 43us/step - loss: 0.0773 - accuracy: 0.9774\n",
      "Epoch 4/5\n",
      "60000/60000 [==============================] - 3s 42us/step - loss: 0.0574 - accuracy: 0.9828\n",
      "Epoch 5/5\n",
      "60000/60000 [==============================] - 3s 43us/step - loss: 0.0453 - accuracy: 0.9857\n"
     ]
    },
    {
     "data": {
      "text/plain": [
       "<keras.callbacks.callbacks.History at 0x23233648b88>"
      ]
     },
     "execution_count": 8,
     "metadata": {},
     "output_type": "execute_result"
    }
   ],
   "source": [
    "# feed our train data in the model to train it and specify the number of epochs\n",
    "model.fit(X_train, y_train, epochs=5)"
   ]
  },
  {
   "cell_type": "markdown",
   "metadata": {},
   "source": [
    "## Evaluate the Model\n",
    "\n",
    "We have trained our neural network model. It is now time to evaluate its performance on the validation data. "
   ]
  },
  {
   "cell_type": "code",
   "execution_count": 9,
   "metadata": {},
   "outputs": [
    {
     "data": {
      "text/plain": [
       "[0.07416198517300654, 0.9769999980926514]"
      ]
     },
     "execution_count": 9,
     "metadata": {},
     "output_type": "execute_result"
    }
   ],
   "source": [
    "model.evaluate(X_valid, y_valid, verbose=2)"
   ]
  },
  {
   "cell_type": "markdown",
   "metadata": {},
   "source": [
    "Our model has an accuracy of 97.5 %. "
   ]
  }
 ],
 "metadata": {
  "kernelspec": {
   "display_name": "Python 3",
   "language": "python",
   "name": "python3"
  },
  "language_info": {
   "codemirror_mode": {
    "name": "ipython",
    "version": 3
   },
   "file_extension": ".py",
   "mimetype": "text/x-python",
   "name": "python",
   "nbconvert_exporter": "python",
   "pygments_lexer": "ipython3",
   "version": "3.7.7"
  }
 },
 "nbformat": 4,
 "nbformat_minor": 4
}
